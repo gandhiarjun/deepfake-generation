{
 "cells": [
  {
   "cell_type": "code",
   "execution_count": 75,
   "id": "mexican-tennis",
   "metadata": {},
   "outputs": [],
   "source": [
    "import face_recognition\n",
    "import matplotlib.pyplot as plt\n",
    "from matplotlib.patches import Rectangle\n",
    "import os\n",
    "import cv2\n",
    "import pathlib"
   ]
  },
  {
   "cell_type": "code",
   "execution_count": 76,
   "id": "different-yahoo",
   "metadata": {},
   "outputs": [],
   "source": [
    "def extractImages(fileName):\n",
    "    print(fileName)\n",
    "    pathOut = str(pathlib.Path().absolute()) + \"/\" + fileName[0:-4] + \"/\"\n",
    "    if not os.path.exists(pathOut):\n",
    "        os.makedirs(pathOut)\n",
    "    print(pathOut)\n",
    "    count = 0\n",
    "    vidcap = cv2.VideoCapture(fileName)\n",
    "    success,image = vidcap.read()\n",
    "    success = True\n",
    "    while success:\n",
    "        # vidcap.set(cv2.CAP_PROP_POS_MSEC,(count*1000))    # added this line\n",
    "        success,image = vidcap.read()\n",
    "\n",
    "        if success:\n",
    "            \n",
    "#             print ('Read a new frame: ', success)\n",
    "            frameName = pathOut + \"frame%d.jpg\" % count\n",
    "            if count % 700 == 0:\n",
    "                print(frameName)\n",
    "\n",
    "            cv2.imwrite(frameName, image)     # save frame as JPEG file\n",
    "            count = count + 1"
   ]
  },
  {
   "cell_type": "code",
   "execution_count": 77,
   "id": "unique-fifth",
   "metadata": {
    "scrolled": false
   },
   "outputs": [
    {
     "name": "stdout",
     "output_type": "stream",
     "text": [
      "Videos/JohnOliver1-cropped.mp4\n",
      "/home/snippy/Documents/CS/CMSC472/Final Proj/deepfake-generation/Videos/JohnOliver1-cropped/\n",
      "/home/snippy/Documents/CS/CMSC472/Final Proj/deepfake-generation/Videos/JohnOliver1-cropped/frame0.jpg\n",
      "/home/snippy/Documents/CS/CMSC472/Final Proj/deepfake-generation/Videos/JohnOliver1-cropped/frame700.jpg\n",
      "/home/snippy/Documents/CS/CMSC472/Final Proj/deepfake-generation/Videos/JohnOliver1-cropped/frame1400.jpg\n"
     ]
    }
   ],
   "source": [
    "extractImages('Videos/JohnOliver1-cropped.mp4')"
   ]
  },
  {
   "cell_type": "code",
   "execution_count": 99,
   "id": "contained-stephen",
   "metadata": {},
   "outputs": [],
   "source": [
    "\"\"\"\n",
    "    Parameters: \n",
    "        - imageDir: the file path for the image directory extract the faces from\n",
    "        - face_encoded: the face encoder we want to compare to see if we have extracted the correct face\n",
    "\"\"\"\n",
    "def singleFaceExtracter(imageDir, face_encoder):\n",
    "    pathOut = str(pathlib.Path().absolute())+'/'+imageDir[:-1]+'-face-crop/'\n",
    "    if not os.path.exists(pathOut):\n",
    "        os.makedirs(pathOut)\n",
    "    print(pathOut)\n",
    "    count = 0\n",
    "    for filename in os.listdir(imageDir):\n",
    "        if filename.endswith(\".jpg\"):\n",
    "            image = face_recognition.load_image_file(imageDir+filename)\n",
    "            # makes sure there is only one face in the image\n",
    "            if len(face_recognition.face_locations(image)) == 1:\n",
    "                top, right, bottom, left = face_recognition.face_locations(image)[0]\n",
    "                cropped_face = image[top:bottom,left:right]\n",
    "                cropped_encoding = face_recognition.face_encodings(cropped_face)[0]\n",
    "                \n",
    "                # makes sure it is the face that was encoded\n",
    "                if(face_recognition.compare_faces([face_encoder], cropped_encoding))[0]:\n",
    "                    frameName = pathOut + filename[0:-4] + \"-face-cropped\" + \".jpg\"\n",
    "                    cv2.imwrite(frameName, )     # save cropped as JPEG file\n",
    "                    if(count % 700 == 0): print(filename[0:-4] + \"-face-cropped\" + \".jpg\")\n",
    "                    count += 1"
   ]
  },
  {
   "cell_type": "code",
   "execution_count": 70,
   "id": "visible-retro",
   "metadata": {},
   "outputs": [
    {
     "name": "stdout",
     "output_type": "stream",
     "text": [
      "[True]\n"
     ]
    }
   ],
   "source": [
    "oliver_encoding = face_recognition.face_encodings(image)[0]\n",
    "\n",
    "image2 = face_recognition.load_image_file(\"./Videos/JohnOliver1-cropped/frame103.jpg\")\n",
    "unknown_encoding = face_recognition.face_encodings(image2)[0]\n",
    "\n",
    "results = face_recognition.compare_faces([oliver_encoding], unknown_encoding)\n",
    "print(results)"
   ]
  },
  {
   "cell_type": "code",
   "execution_count": 98,
   "id": "upper-output",
   "metadata": {},
   "outputs": [
    {
     "name": "stdout",
     "output_type": "stream",
     "text": [
      "/home/snippy/Documents/CS/CMSC472/Final Proj/deepfake-generation/Videos/JohnOliver1-cropped-face-crop/\n"
     ]
    },
    {
     "ename": "KeyboardInterrupt",
     "evalue": "",
     "output_type": "error",
     "traceback": [
      "\u001b[0;31m---------------------------------------------------------------------------\u001b[0m",
      "\u001b[0;31mKeyboardInterrupt\u001b[0m                         Traceback (most recent call last)",
      "\u001b[0;32m<ipython-input-98-de04a854a236>\u001b[0m in \u001b[0;36m<module>\u001b[0;34m\u001b[0m\n\u001b[0;32m----> 1\u001b[0;31m \u001b[0mfaceExtracter\u001b[0m\u001b[0;34m(\u001b[0m\u001b[0;34m'Videos/JohnOliver1-cropped/'\u001b[0m\u001b[0;34m)\u001b[0m\u001b[0;34m\u001b[0m\u001b[0;34m\u001b[0m\u001b[0m\n\u001b[0m",
      "\u001b[0;32m<ipython-input-97-b29e9eae72b1>\u001b[0m in \u001b[0;36mfaceExtracter\u001b[0;34m(imageDir)\u001b[0m\n\u001b[1;32m      7\u001b[0m         \u001b[0;32mif\u001b[0m \u001b[0mfilename\u001b[0m\u001b[0;34m.\u001b[0m\u001b[0mendswith\u001b[0m\u001b[0;34m(\u001b[0m\u001b[0;34m\".jpg\"\u001b[0m\u001b[0;34m)\u001b[0m\u001b[0;34m:\u001b[0m\u001b[0;34m\u001b[0m\u001b[0;34m\u001b[0m\u001b[0m\n\u001b[1;32m      8\u001b[0m             \u001b[0mimage\u001b[0m \u001b[0;34m=\u001b[0m \u001b[0mface_recognition\u001b[0m\u001b[0;34m.\u001b[0m\u001b[0mload_image_file\u001b[0m\u001b[0;34m(\u001b[0m\u001b[0mimageDir\u001b[0m\u001b[0;34m+\u001b[0m\u001b[0mfilename\u001b[0m\u001b[0;34m)\u001b[0m\u001b[0;34m\u001b[0m\u001b[0;34m\u001b[0m\u001b[0m\n\u001b[0;32m----> 9\u001b[0;31m             \u001b[0mtop\u001b[0m\u001b[0;34m,\u001b[0m \u001b[0mright\u001b[0m\u001b[0;34m,\u001b[0m \u001b[0mbottom\u001b[0m\u001b[0;34m,\u001b[0m \u001b[0mleft\u001b[0m \u001b[0;34m=\u001b[0m \u001b[0mface_recognition\u001b[0m\u001b[0;34m.\u001b[0m\u001b[0mface_locations\u001b[0m\u001b[0;34m(\u001b[0m\u001b[0mimage\u001b[0m\u001b[0;34m)\u001b[0m\u001b[0;34m[\u001b[0m\u001b[0;36m0\u001b[0m\u001b[0;34m]\u001b[0m\u001b[0;34m\u001b[0m\u001b[0;34m\u001b[0m\u001b[0m\n\u001b[0m\u001b[1;32m     10\u001b[0m \u001b[0;34m\u001b[0m\u001b[0m\n\u001b[1;32m     11\u001b[0m             \u001b[0mframeName\u001b[0m \u001b[0;34m=\u001b[0m \u001b[0mpathOut\u001b[0m \u001b[0;34m+\u001b[0m \u001b[0mfilename\u001b[0m\u001b[0;34m[\u001b[0m\u001b[0;36m0\u001b[0m\u001b[0;34m:\u001b[0m\u001b[0;34m-\u001b[0m\u001b[0;36m4\u001b[0m\u001b[0;34m]\u001b[0m \u001b[0;34m+\u001b[0m \u001b[0;34m\"-face-cropped\"\u001b[0m \u001b[0;34m+\u001b[0m \u001b[0;34m\".jpg\"\u001b[0m\u001b[0;34m\u001b[0m\u001b[0;34m\u001b[0m\u001b[0m\n",
      "\u001b[0;32m~/.local/lib/python3.8/site-packages/face_recognition/api.py\u001b[0m in \u001b[0;36mface_locations\u001b[0;34m(img, number_of_times_to_upsample, model)\u001b[0m\n\u001b[1;32m    119\u001b[0m         \u001b[0;32mreturn\u001b[0m \u001b[0;34m[\u001b[0m\u001b[0m_trim_css_to_bounds\u001b[0m\u001b[0;34m(\u001b[0m\u001b[0m_rect_to_css\u001b[0m\u001b[0;34m(\u001b[0m\u001b[0mface\u001b[0m\u001b[0;34m.\u001b[0m\u001b[0mrect\u001b[0m\u001b[0;34m)\u001b[0m\u001b[0;34m,\u001b[0m \u001b[0mimg\u001b[0m\u001b[0;34m.\u001b[0m\u001b[0mshape\u001b[0m\u001b[0;34m)\u001b[0m \u001b[0;32mfor\u001b[0m \u001b[0mface\u001b[0m \u001b[0;32min\u001b[0m \u001b[0m_raw_face_locations\u001b[0m\u001b[0;34m(\u001b[0m\u001b[0mimg\u001b[0m\u001b[0;34m,\u001b[0m \u001b[0mnumber_of_times_to_upsample\u001b[0m\u001b[0;34m,\u001b[0m \u001b[0;34m\"cnn\"\u001b[0m\u001b[0;34m)\u001b[0m\u001b[0;34m]\u001b[0m\u001b[0;34m\u001b[0m\u001b[0;34m\u001b[0m\u001b[0m\n\u001b[1;32m    120\u001b[0m     \u001b[0;32melse\u001b[0m\u001b[0;34m:\u001b[0m\u001b[0;34m\u001b[0m\u001b[0;34m\u001b[0m\u001b[0m\n\u001b[0;32m--> 121\u001b[0;31m         \u001b[0;32mreturn\u001b[0m \u001b[0;34m[\u001b[0m\u001b[0m_trim_css_to_bounds\u001b[0m\u001b[0;34m(\u001b[0m\u001b[0m_rect_to_css\u001b[0m\u001b[0;34m(\u001b[0m\u001b[0mface\u001b[0m\u001b[0;34m)\u001b[0m\u001b[0;34m,\u001b[0m \u001b[0mimg\u001b[0m\u001b[0;34m.\u001b[0m\u001b[0mshape\u001b[0m\u001b[0;34m)\u001b[0m \u001b[0;32mfor\u001b[0m \u001b[0mface\u001b[0m \u001b[0;32min\u001b[0m \u001b[0m_raw_face_locations\u001b[0m\u001b[0;34m(\u001b[0m\u001b[0mimg\u001b[0m\u001b[0;34m,\u001b[0m \u001b[0mnumber_of_times_to_upsample\u001b[0m\u001b[0;34m,\u001b[0m \u001b[0mmodel\u001b[0m\u001b[0;34m)\u001b[0m\u001b[0;34m]\u001b[0m\u001b[0;34m\u001b[0m\u001b[0;34m\u001b[0m\u001b[0m\n\u001b[0m\u001b[1;32m    122\u001b[0m \u001b[0;34m\u001b[0m\u001b[0m\n\u001b[1;32m    123\u001b[0m \u001b[0;34m\u001b[0m\u001b[0m\n",
      "\u001b[0;32m~/.local/lib/python3.8/site-packages/face_recognition/api.py\u001b[0m in \u001b[0;36m_raw_face_locations\u001b[0;34m(img, number_of_times_to_upsample, model)\u001b[0m\n\u001b[1;32m    103\u001b[0m         \u001b[0;32mreturn\u001b[0m \u001b[0mcnn_face_detector\u001b[0m\u001b[0;34m(\u001b[0m\u001b[0mimg\u001b[0m\u001b[0;34m,\u001b[0m \u001b[0mnumber_of_times_to_upsample\u001b[0m\u001b[0;34m)\u001b[0m\u001b[0;34m\u001b[0m\u001b[0;34m\u001b[0m\u001b[0m\n\u001b[1;32m    104\u001b[0m     \u001b[0;32melse\u001b[0m\u001b[0;34m:\u001b[0m\u001b[0;34m\u001b[0m\u001b[0;34m\u001b[0m\u001b[0m\n\u001b[0;32m--> 105\u001b[0;31m         \u001b[0;32mreturn\u001b[0m \u001b[0mface_detector\u001b[0m\u001b[0;34m(\u001b[0m\u001b[0mimg\u001b[0m\u001b[0;34m,\u001b[0m \u001b[0mnumber_of_times_to_upsample\u001b[0m\u001b[0;34m)\u001b[0m\u001b[0;34m\u001b[0m\u001b[0;34m\u001b[0m\u001b[0m\n\u001b[0m\u001b[1;32m    106\u001b[0m \u001b[0;34m\u001b[0m\u001b[0m\n\u001b[1;32m    107\u001b[0m \u001b[0;34m\u001b[0m\u001b[0m\n",
      "\u001b[0;31mKeyboardInterrupt\u001b[0m: "
     ]
    }
   ],
   "source": [
    "singleFaceExtracter('Videos/JohnOliver1-cropped/')"
   ]
  },
  {
   "cell_type": "code",
   "execution_count": null,
   "id": "stupid-calendar",
   "metadata": {},
   "outputs": [],
   "source": []
  }
 ],
 "metadata": {
  "kernelspec": {
   "display_name": "Python 3",
   "language": "python",
   "name": "python3"
  },
  "language_info": {
   "codemirror_mode": {
    "name": "ipython",
    "version": 3
   },
   "file_extension": ".py",
   "mimetype": "text/x-python",
   "name": "python",
   "nbconvert_exporter": "python",
   "pygments_lexer": "ipython3",
   "version": "3.8.5"
  }
 },
 "nbformat": 4,
 "nbformat_minor": 5
}
