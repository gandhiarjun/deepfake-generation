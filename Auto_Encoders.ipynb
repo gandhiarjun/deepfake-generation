{
  "nbformat": 4,
  "nbformat_minor": 0,
  "metadata": {
    "colab": {
      "name": "Auto Encoders",
      "provenance": [],
      "collapsed_sections": []
    },
    "kernelspec": {
      "name": "python3",
      "display_name": "Python 3"
    },
    "language_info": {
      "name": "python"
    },
    "accelerator": "GPU"
  },
  "cells": [
    {
      "cell_type": "code",
      "metadata": {
        "id": "McS3jQu_d6b2"
      },
      "source": [
        "import numpy as np\n",
        "import matplotlib.pyplot as plt\n",
        "from PIL import Image\n",
        "from scipy import ndimage\n",
        "from tqdm import tqdm\n",
        "import time\n",
        "import cv2\n",
        "import os\n",
        "\n",
        "import torch\n",
        "import torch.nn as nn\n",
        "import torch.nn.functional as F\n",
        "from torch.utils.data import Dataset, DataLoader\n",
        "from torch import optim\n",
        "\n",
        "import torchvision\n",
        "from torchvision.datasets import MNIST"
      ],
      "execution_count": 24,
      "outputs": []
    },
    {
      "cell_type": "code",
      "metadata": {
        "id": "uzmAqzcrfUFZ"
      },
      "source": [
        "class AE(nn.Module):\n",
        "    def __init__(self, **kwargs):\n",
        "        super().__init__()\n",
        "\n",
        "        self.encoder_hidden_layer = nn.Linear(\n",
        "            in_features=kwargs[\"input_shape\"], out_features=128\n",
        "        )\n",
        "        self.encoder_output_layer = nn.Linear(\n",
        "            in_features=128, out_features=128\n",
        "        )\n",
        "        self.decoder_hidden_layer = nn.Linear(\n",
        "            in_features=128, out_features=128\n",
        "        )\n",
        "        self.decoder_output_layer = nn.Linear(\n",
        "            in_features=128, out_features=kwargs[\"input_shape\"]\n",
        "        )\n",
        "\n",
        "    def forward(self, features):\n",
        "        activation = self.encoder_hidden_layer(features)\n",
        "        activation = torch.relu(activation)\n",
        "        code = self.encoder_output_layer(activation)\n",
        "        code = torch.relu(code)\n",
        "        activation = self.decoder_hidden_layer(code)\n",
        "        activation = torch.relu(activation)\n",
        "        activation = self.decoder_output_layer(activation)\n",
        "        reconstructed = torch.relu(activation)\n",
        "        return reconstructed"
      ],
      "execution_count": 87,
      "outputs": []
    },
    {
      "cell_type": "code",
      "metadata": {
        "id": "3dlyC6Z_j1GX"
      },
      "source": [
        "# /content/drive/MyDrive/UMDCP/CMSC/CMSC472/JohnOliver1-cropped-face-crop\n",
        "class AEDataset(Dataset):\n",
        "    def __init__(self, file_path):\n",
        "        self.file_path = file_path\n",
        "      \n",
        "        temp = []\n",
        "\n",
        "        for filename in os.listdir(file_path)[:600]:\n",
        "            if filename.endswith(\".jpg\"):\n",
        "                img = cv2.imread(file_path + '/'+filename)\n",
        "                img = cv2.resize(img,(128,128))\n",
        "                grayImage = cv2.cvtColor(img, cv2.COLOR_BGR2GRAY)\n",
        "                (thresh, blackAndWhiteImage) = cv2.threshold(grayImage, 127, 255, cv2.THRESH_BINARY)\n",
        "\n",
        "                temp.append(blackAndWhiteImage)\n",
        "                if(temp is None): print(\"NONE\")\n",
        "        print(len(temp))\n",
        "        self.x = torch.tensor(temp,dtype=torch.float32)\n",
        "        print(type(self.x[0]))\n",
        "        self.x = torch.flatten(self.x,1)\n",
        "\n",
        "    def __len__(self):\n",
        "        return len(self.x)\n",
        "    \n",
        "    def __getitem__(self, idx):\n",
        "        ## return image, and, if not test mode, the label at the given index\n",
        "        ## valid formats include:\n",
        "        ## {'image': image, 'label': label}\n",
        "        ## image, label\n",
        "        ## where image and label have both been converted to torch.Tensors\n",
        "        image = self.x[idx].clone().detach()\n",
        "        return image\n"
      ],
      "execution_count": 156,
      "outputs": []
    },
    {
      "cell_type": "code",
      "metadata": {
        "id": "YP86lKm5nfDE"
      },
      "source": [
        "from google.colab import drive\n",
        "drive.mount('/content/drive')"
      ],
      "execution_count": null,
      "outputs": []
    },
    {
      "cell_type": "code",
      "metadata": {
        "id": "zQRRSsDAfZ5u"
      },
      "source": [
        "#  use gpu if available\n",
        "device = torch.device(\"cuda\" if torch.cuda.is_available() else \"cpu\")\n",
        "\n",
        "# create a model from `AE` autoencoder class\n",
        "# load it to the specified device, either gpu or cpu\n",
        "model = AE(input_shape=128*128).to(device)\n",
        "\n",
        "# create an optimizer object\n",
        "# Adam optimizer with learning rate 1e-3\n",
        "optimizer = optim.Adam(model.parameters(), lr=1e-3)\n",
        "\n",
        "# mean-squared error loss\n",
        "criterion = nn.MSELoss()\n",
        "\n",
        "epochs = 40"
      ],
      "execution_count": 158,
      "outputs": []
    },
    {
      "cell_type": "code",
      "metadata": {
        "colab": {
          "base_uri": "https://localhost:8080/"
        },
        "id": "Kw9_A0Trfc7L",
        "outputId": "0c7d676b-7d9f-4ae4-e5d1-dc7e801746f6"
      },
      "source": [
        "transform = torchvision.transforms.Compose([torchvision.transforms.ToTensor()])\n",
        "train_dataset = AEDataset('/content/drive/MyDrive/UMDCP/CMSC/CMSC472/JohnOliver1-cropped-face-crop')\n",
        "# train_dataset = MNIST(\n",
        "#     root=\"~/torch_datasets\", train=True, transform=transform, download=True\n",
        "# )\n",
        "# /content/drive/MyDrive/UMDCP/CMSC/CMSC472/JimmyF\n",
        "test_dataset = AEDataset('/content/drive/MyDrive/UMDCP/CMSC/CMSC472/JimmyF')\n",
        "# test_dataset = MNIST(\n",
        "#     root=\"~/torch_datasets\", train=False, transform=transform, download=True\n",
        "# )\n",
        "print(len(train_dataset))\n",
        "train_loader = torch.utils.data.DataLoader(\n",
        "    train_dataset,batch_size=20, shuffle=True, num_workers=4, pin_memory=True\n",
        ")\n",
        "\n",
        "test_loader = torch.utils.data.DataLoader(\n",
        "    test_dataset, batch_size=1, shuffle=False, num_workers=4\n",
        ")\n",
        "print(type(train_dataset.__getitem__(0)))"
      ],
      "execution_count": 159,
      "outputs": [
        {
          "output_type": "stream",
          "text": [
            "600\n",
            "<class 'torch.Tensor'>\n",
            "1\n",
            "<class 'torch.Tensor'>\n",
            "600\n",
            "<class 'torch.Tensor'>\n"
          ],
          "name": "stdout"
        },
        {
          "output_type": "stream",
          "text": [
            "/usr/local/lib/python3.7/dist-packages/torch/utils/data/dataloader.py:477: UserWarning: This DataLoader will create 4 worker processes in total. Our suggested max number of worker in current system is 2, which is smaller than what this DataLoader is going to create. Please be aware that excessive worker creation might get DataLoader running slow or even freeze, lower the worker number to avoid potential slowness/freeze if necessary.\n",
            "  cpuset_checked))\n"
          ],
          "name": "stderr"
        }
      ]
    },
    {
      "cell_type": "code",
      "metadata": {
        "colab": {
          "base_uri": "https://localhost:8080/"
        },
        "id": "Vwy4Vwq1ffSl",
        "outputId": "d3a7c0c7-e031-4454-e440-8cbaccd2af64"
      },
      "source": [
        "for epoch in range(epochs):\n",
        "    loss = 0\n",
        "    for idx, batch_features in enumerate(train_loader):\n",
        "        # reshape mini-batch data to [N, 784] matrix\n",
        "        # load it to the active device\n",
        "        # batch_features = batch_features.view(-1, 163840).to(device)\n",
        "        batch_features = batch_features.cuda()\n",
        "        # reset the gradients back to zero\n",
        "        # PyTorch accumulates gradients on subsequent backward passes\n",
        "        optimizer.zero_grad()\n",
        "        \n",
        "        # compute reconstructions\n",
        "        outputs = model(batch_features)\n",
        "        \n",
        "        # compute training reconstruction loss\n",
        "        train_loss = criterion(outputs, batch_features)\n",
        "        \n",
        "        # compute accumultrain_loaderated gradients\n",
        "        train_loss.backward()\n",
        "        \n",
        "        # perform parameter update based on current gradients\n",
        "        optimizer.step()\n",
        "        \n",
        "        # add the mini-batch training loss to epoch loss\n",
        "        loss += train_loss.item()\n",
        "    \n",
        "    # compute the epoch training loss\n",
        "    loss = loss / len(train_loader)\n",
        "    \n",
        "    # display the epoch training loss\n",
        "    print(\"epoch : {}/{}, loss = {:.6f}\".format(epoch + 1, epochs, loss))"
      ],
      "execution_count": 160,
      "outputs": [
        {
          "output_type": "stream",
          "text": [
            "/usr/local/lib/python3.7/dist-packages/torch/utils/data/dataloader.py:477: UserWarning: This DataLoader will create 4 worker processes in total. Our suggested max number of worker in current system is 2, which is smaller than what this DataLoader is going to create. Please be aware that excessive worker creation might get DataLoader running slow or even freeze, lower the worker number to avoid potential slowness/freeze if necessary.\n",
            "  cpuset_checked))\n"
          ],
          "name": "stderr"
        },
        {
          "output_type": "stream",
          "text": [
            "epoch : 1/40, loss = 21919.356608\n",
            "epoch : 2/40, loss = 15839.134115\n",
            "epoch : 3/40, loss = 15064.003483\n",
            "epoch : 4/40, loss = 13850.507031\n",
            "epoch : 5/40, loss = 13100.928971\n",
            "epoch : 6/40, loss = 12207.463672\n",
            "epoch : 7/40, loss = 11328.792969\n",
            "epoch : 8/40, loss = 10757.460124\n",
            "epoch : 9/40, loss = 10175.711849\n",
            "epoch : 10/40, loss = 9662.447233\n",
            "epoch : 11/40, loss = 9147.554883\n",
            "epoch : 12/40, loss = 8787.640918\n",
            "epoch : 13/40, loss = 8508.261686\n",
            "epoch : 14/40, loss = 8226.928206\n",
            "epoch : 15/40, loss = 7987.127669\n",
            "epoch : 16/40, loss = 7811.405632\n",
            "epoch : 17/40, loss = 7680.819792\n",
            "epoch : 18/40, loss = 7564.633496\n",
            "epoch : 19/40, loss = 7433.602881\n",
            "epoch : 20/40, loss = 7329.328776\n",
            "epoch : 21/40, loss = 7229.908919\n",
            "epoch : 22/40, loss = 7145.990479\n",
            "epoch : 23/40, loss = 7059.654720\n",
            "epoch : 24/40, loss = 6979.522933\n",
            "epoch : 25/40, loss = 6903.727637\n",
            "epoch : 26/40, loss = 6837.691195\n",
            "epoch : 27/40, loss = 6766.562207\n",
            "epoch : 28/40, loss = 6684.055420\n",
            "epoch : 29/40, loss = 6616.920166\n",
            "epoch : 30/40, loss = 6587.697526\n",
            "epoch : 31/40, loss = 6531.484538\n",
            "epoch : 32/40, loss = 6465.610075\n",
            "epoch : 33/40, loss = 6404.747900\n",
            "epoch : 34/40, loss = 6357.654183\n",
            "epoch : 35/40, loss = 6321.932975\n",
            "epoch : 36/40, loss = 6293.769385\n",
            "epoch : 37/40, loss = 6262.766650\n",
            "epoch : 38/40, loss = 6185.435156\n",
            "epoch : 39/40, loss = 6128.956104\n",
            "epoch : 40/40, loss = 6099.179557\n"
          ],
          "name": "stdout"
        }
      ]
    },
    {
      "cell_type": "code",
      "metadata": {
        "colab": {
          "base_uri": "https://localhost:8080/"
        },
        "id": "RpipTgNwg9o1",
        "outputId": "2344a29e-eb44-46e5-fbbf-1b0a4ce4b2e9"
      },
      "source": [
        "test_examples = None\n",
        "\n",
        "with torch.no_grad():\n",
        "    for batch_features in test_loader:\n",
        "        batch_features = batch_features.cuda()\n",
        "        test_examples = batch_features.view(-1, 128*128).cuda()\n",
        "        reconstruction = model(batch_features).cpu()\n",
        "        break"
      ],
      "execution_count": 161,
      "outputs": [
        {
          "output_type": "stream",
          "text": [
            "/usr/local/lib/python3.7/dist-packages/torch/utils/data/dataloader.py:477: UserWarning: This DataLoader will create 4 worker processes in total. Our suggested max number of worker in current system is 2, which is smaller than what this DataLoader is going to create. Please be aware that excessive worker creation might get DataLoader running slow or even freeze, lower the worker number to avoid potential slowness/freeze if necessary.\n",
            "  cpuset_checked))\n"
          ],
          "name": "stderr"
        }
      ]
    },
    {
      "cell_type": "code",
      "metadata": {
        "colab": {
          "base_uri": "https://localhost:8080/",
          "height": 252
        },
        "id": "DiTx3-Tqh9Pi",
        "outputId": "db8e6990-c119-4409-8554-08a8b76af3f8"
      },
      "source": [
        "with torch.no_grad():\n",
        "    number = 1\n",
        "    plt.figure(figsize=(20, 4))\n",
        "    for index in range(number):\n",
        "        # display original\n",
        "        ax = plt.subplot(2, number, index + 1)\n",
        "        plt.imshow(test_examples[index].cpu().detach().numpy().reshape(128, 128))\n",
        "        plt.gray()\n",
        "        ax.get_xaxis().set_visible(False)\n",
        "        ax.get_yaxis().set_visible(False)\n",
        "\n",
        "        # display reconstruction\n",
        "        ax = plt.subplot(2, number, index + 1 + number)\n",
        "        plt.imshow(reconstruction[index].numpy().reshape(128, 128))\n",
        "        plt.gray()\n",
        "        ax.get_xaxis().set_visible(False)\n",
        "        ax.get_yaxis().set_visible(False)\n",
        "    plt.show()"
      ],
      "execution_count": 162,
      "outputs": [
        {
          "output_type": "display_data",
          "data": {
            "image/png": "[encoded data removed]",
            "text/plain": [
              "<Figure size 1440x288 with 2 Axes>"
            ]
          },
          "metadata": {
            "tags": [],
            "needs_background": "light"
          }
        }
      ]
    },
    {
      "cell_type": "code",
      "metadata": {
        "id": "YXAEJ-Edi8fU"
      },
      "source": [
        ""
      ],
      "execution_count": null,
      "outputs": []
    }
  ]
}