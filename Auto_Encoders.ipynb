{
  "nbformat": 4,
  "nbformat_minor": 0,
  "metadata": {
    "colab": {
      "name": "Auto Encoders",
      "provenance": [],
      "collapsed_sections": []
    },
    "kernelspec": {
      "name": "python3",
      "display_name": "Python 3"
    },
    "language_info": {
      "name": "python"
    },
    "accelerator": "GPU"
  },
  "cells": [
    {
      "cell_type": "code",
      "metadata": {
        "id": "McS3jQu_d6b2"
      },
      "source": [
        "import numpy as np\n",
        "import matplotlib.pyplot as plt\n",
        "from PIL import Image\n",
        "from scipy import ndimage\n",
        "from tqdm import tqdm\n",
        "import time\n",
        "import cv2\n",
        "import os\n",
        "\n",
        "import torch\n",
        "import torch.nn as nn\n",
        "import torch.nn.functional as F\n",
        "from torch.utils.data import Dataset, DataLoader\n",
        "from torch import optim\n",
        "\n",
        "import torchvision\n",
        "from torchvision.datasets import MNIST"
      ],
      "execution_count": 1,
      "outputs": []
    },
    {
      "cell_type": "code",
      "metadata": {
        "id": "uzmAqzcrfUFZ"
      },
      "source": [
        "class AE(nn.Module):\n",
        "    def __init__(self, **kwargs):\n",
        "        super().__init__()\n",
        "\n",
        "        self.encoder_hidden_layer = nn.Linear(\n",
        "            in_features=kwargs[\"input_shape\"], out_features=128\n",
        "        )\n",
        "        self.encoder_output_layer = nn.Linear(\n",
        "            in_features=128, out_features=128\n",
        "        )\n",
        "        self.decoder_hidden_layer = nn.Linear(\n",
        "            in_features=128, out_features=128\n",
        "        )\n",
        "        self.decoder_output_layer = nn.Linear(\n",
        "            in_features=128, out_features=kwargs[\"input_shape\"]\n",
        "        )\n",
        "\n",
        "    def forward(self, features):\n",
        "        activation = self.encoder_hidden_layer(features)\n",
        "        activation = torch.relu(activation)\n",
        "        code = self.encoder_output_layer(activation)\n",
        "        code = torch.relu(code)\n",
        "        activation = self.decoder_hidden_layer(code)\n",
        "        activation = torch.relu(activation)\n",
        "        activation = self.decoder_output_layer(activation)\n",
        "        reconstructed = torch.relu(activation)\n",
        "        return reconstructed"
      ],
      "execution_count": 2,
      "outputs": []
    },
    {
      "cell_type": "code",
      "metadata": {
        "id": "3dlyC6Z_j1GX"
      },
      "source": [
        "# /content/drive/MyDrive/UMDCP/CMSC/CMSC472/JohnOliver1-cropped-face-crop\n",
        "class AEDataset(Dataset):\n",
        "    def __init__(self, file_path):\n",
        "        self.file_path = file_path\n",
        "      \n",
        "        temp = []\n",
        "        count = 0\n",
        "        for filename in os.listdir(file_path):\n",
        "            if filename.endswith(\".jpg\"):\n",
        "                img = cv2.imread(file_path + '/'+filename)\n",
        "                img = cv2.resize(img,(128,128))\n",
        "\n",
        "                # grayImage = cv2.cvtColor(img, cv2.COLOR_BGR2GRAY)\n",
        "                # (thresh, blackAndWhiteImage) = cv2.threshold(grayImage, 127, 255, cv2.THRESH_BINARY)\n",
        "\n",
        "                temp.append(img)\n",
        "\n",
        "                if count % 100 == 0: print(str(count) + ' images done')\n",
        "\n",
        "                count += 1\n",
        "        print(len(temp))\n",
        "        self.x = torch.tensor(temp,dtype=torch.float32)\n",
        "        print(self.x[0].shape)\n",
        "        self.x = torch.flatten(self.x,1)\n",
        "        print(self.x.shape)\n",
        "    def __len__(self):\n",
        "        return len(self.x)\n",
        "    \n",
        "    def __getitem__(self, idx):\n",
        "        ## return image, and, if not test mode, the label at the given index\n",
        "        ## valid formats include:\n",
        "        ## {'image': image, 'label': label}\n",
        "        ## image, label\n",
        "        ## where image and label have both been converted to torch.Tensors\n",
        "        image = self.x[idx].clone().detach()\n",
        "        return image\n"
      ],
      "execution_count": 3,
      "outputs": []
    },
    {
      "cell_type": "code",
      "metadata": {
        "id": "YP86lKm5nfDE",
        "colab": {
          "base_uri": "https://localhost:8080/"
        },
        "outputId": "bbe9cb92-bc0a-4308-cfd0-edb757078782"
      },
      "source": [
        "from google.colab import drive\n",
        "drive.mount('/content/drive')"
      ],
      "execution_count": 4,
      "outputs": [
        {
          "output_type": "stream",
          "text": [
            "Drive already mounted at /content/drive; to attempt to forcibly remount, call drive.mount(\"/content/drive\", force_remount=True).\n"
          ],
          "name": "stdout"
        }
      ]
    },
    {
      "cell_type": "code",
      "metadata": {
        "id": "o7vFwGZwVnK3"
      },
      "source": [
        "# hyperparameters\n",
        "epochs = 500\n",
        "learning_rate = 0.001\n",
        "batch_size = 50"
      ],
      "execution_count": 28,
      "outputs": []
    },
    {
      "cell_type": "code",
      "metadata": {
        "id": "zQRRSsDAfZ5u"
      },
      "source": [
        "#  use gpu if available\n",
        "device = torch.device(\"cuda\" if torch.cuda.is_available() else \"cpu\")\n",
        "\n",
        "# create a model from `AE` autoencoder class\n",
        "# load it to the specified device, either gpu or cpu\n",
        "model = AE(input_shape=128*128*3).to(device)\n",
        "\n",
        "# create an optimizer object\n",
        "# Adam optimizer with learning rate 1e-3\n",
        "optimizer = optim.Adam(model.parameters(), lr=learning_rate)\n",
        "\n",
        "# mean-squared error loss\n",
        "criterion = nn.MSELoss()"
      ],
      "execution_count": 29,
      "outputs": []
    },
    {
      "cell_type": "code",
      "metadata": {
        "colab": {
          "base_uri": "https://localhost:8080/"
        },
        "id": "Kw9_A0Trfc7L",
        "outputId": "ba0b63e8-e7a5-4221-ff6b-d676d5c1f153"
      },
      "source": [
        "transform = torchvision.transforms.Compose([torchvision.transforms.ToTensor()])\n",
        "train_dataset = AEDataset('/content/drive/MyDrive/UMDCP/CMSC/CMSC472/JohnOliver1-cropped-face-crop')\n",
        "# train_dataset = MNIST(\n",
        "#     root=\"~/torch_datasets\", train=True, transform=transform, download=True\n",
        "# )\n",
        "# /content/drive/MyDrive/UMDCP/CMSC/CMSC472/JimmyF\n",
        "test_dataset = AEDataset('/content/drive/MyDrive/UMDCP/CMSC/CMSC472/JimmyF')\n",
        "# test_dataset = MNIST(\n",
        "#     root=\"~/torch_datasets\", train=False, transform=transform, download=True\n",
        "# )\n",
        "print(len(train_dataset))\n",
        "train_loader = torch.utils.data.DataLoader(\n",
        "    train_dataset,batch_size=batch_size, shuffle=True, num_workers=4, pin_memory=True\n",
        ")\n",
        "\n",
        "test_loader = torch.utils.data.DataLoader(\n",
        "    test_dataset, batch_size=1, shuffle=False, num_workers=4\n",
        ")\n",
        "print(type(train_dataset.__getitem__(0)))"
      ],
      "execution_count": 42,
      "outputs": [
        {
          "output_type": "stream",
          "text": [
            "0 images done\n",
            "100 images done\n",
            "200 images done\n",
            "300 images done\n",
            "400 images done\n",
            "500 images done\n",
            "600 images done\n",
            "700 images done\n",
            "800 images done\n",
            "900 images done\n",
            "1000 images done\n",
            "1100 images done\n",
            "1200 images done\n",
            "1300 images done\n",
            "1400 images done\n",
            "1500 images done\n",
            "1568\n",
            "torch.Size([128, 128, 3])\n",
            "torch.Size([1568, 49152])\n",
            "0 images done\n",
            "1\n",
            "torch.Size([128, 128, 3])\n",
            "torch.Size([1, 49152])\n",
            "1568\n",
            "<class 'torch.Tensor'>\n"
          ],
          "name": "stdout"
        },
        {
          "output_type": "stream",
          "text": [
            "/usr/local/lib/python3.7/dist-packages/torch/utils/data/dataloader.py:477: UserWarning: This DataLoader will create 4 worker processes in total. Our suggested max number of worker in current system is 2, which is smaller than what this DataLoader is going to create. Please be aware that excessive worker creation might get DataLoader running slow or even freeze, lower the worker number to avoid potential slowness/freeze if necessary.\n",
            "  cpuset_checked))\n"
          ],
          "name": "stderr"
        }
      ]
    },
    {
      "cell_type": "code",
      "metadata": {
        "colab": {
          "base_uri": "https://localhost:8080/"
        },
        "id": "Vwy4Vwq1ffSl",
        "outputId": "0859ca47-7887-499c-cfcd-37a421329c56"
      },
      "source": [
        "training_len = len(train_loader)\n",
        "for epoch in range(epochs):\n",
        "    loss = 0\n",
        "    for idx, batch_features in enumerate(train_loader):\n",
        "        # reshape mini-batch data to [N, 784] matrix\n",
        "        # load it to the active device\n",
        "        # batch_features = batch_features.view(-1, 163840).to(device)\n",
        "        batch_features = batch_features.cuda()\n",
        "        # reset the gradients back to zero\n",
        "        # PyTorch accumulates gradients on subsequent backward passes\n",
        "        optimizer.zero_grad()\n",
        "        \n",
        "        # compute reconstructions\n",
        "        outputs = model(batch_features)\n",
        "        \n",
        "        # compute training reconstruction loss\n",
        "        train_loss = criterion(outputs, batch_features)\n",
        "        \n",
        "        # compute accumultrain_loaderated gradients\n",
        "        train_loss.backward()\n",
        "        \n",
        "        # perform parameter update based on current gradients\n",
        "        optimizer.step()\n",
        "        \n",
        "        # add the mini-batch training loss to epoch loss\n",
        "        loss += train_loss.item()\n",
        "    \n",
        "    # compute the epoch training loss\n",
        "    loss = loss / training_len\n",
        "    \n",
        "    if(epoch % 20 ==0): print(\"epoch : {}/{}, loss = {:.6f}\".format(epoch + 1, epochs, loss))\n",
        "print(\"final loss = \" + str(loss))"
      ],
      "execution_count": 31,
      "outputs": [
        {
          "output_type": "stream",
          "text": [
            "/usr/local/lib/python3.7/dist-packages/torch/utils/data/dataloader.py:477: UserWarning: This DataLoader will create 4 worker processes in total. Our suggested max number of worker in current system is 2, which is smaller than what this DataLoader is going to create. Please be aware that excessive worker creation might get DataLoader running slow or even freeze, lower the worker number to avoid potential slowness/freeze if necessary.\n",
            "  cpuset_checked))\n"
          ],
          "name": "stderr"
        },
        {
          "output_type": "stream",
          "text": [
            "epoch : 1/500, loss = 20046.983765\n",
            "epoch : 21/500, loss = 7357.476028\n",
            "epoch : 41/500, loss = 5648.621628\n",
            "epoch : 61/500, loss = 4552.231354\n",
            "epoch : 81/500, loss = 3287.815109\n",
            "epoch : 101/500, loss = 2374.363731\n",
            "epoch : 121/500, loss = 1904.299370\n",
            "epoch : 141/500, loss = 1657.032837\n",
            "epoch : 161/500, loss = 1447.059906\n",
            "epoch : 181/500, loss = 1324.303482\n",
            "epoch : 201/500, loss = 1170.007587\n",
            "epoch : 221/500, loss = 1072.860924\n",
            "epoch : 241/500, loss = 1003.324112\n",
            "epoch : 261/500, loss = 942.453596\n",
            "epoch : 281/500, loss = 885.923683\n",
            "epoch : 301/500, loss = 860.113819\n",
            "epoch : 321/500, loss = 822.226593\n",
            "epoch : 341/500, loss = 785.120041\n",
            "epoch : 361/500, loss = 769.228363\n",
            "epoch : 381/500, loss = 790.332855\n",
            "epoch : 401/500, loss = 736.644064\n",
            "epoch : 421/500, loss = 714.931082\n",
            "epoch : 441/500, loss = 701.027155\n",
            "epoch : 461/500, loss = 682.887840\n",
            "epoch : 481/500, loss = 662.118351\n",
            "final loss = 655.730791091919\n"
          ],
          "name": "stdout"
        }
      ]
    },
    {
      "cell_type": "code",
      "metadata": {
        "colab": {
          "base_uri": "https://localhost:8080/"
        },
        "id": "RpipTgNwg9o1",
        "outputId": "121c3d58-a25d-4d37-8de8-bc846ccff7f7"
      },
      "source": [
        "test_examples = None\n",
        "\n",
        "with torch.no_grad():\n",
        "    for batch_features in test_loader:\n",
        "        batch_features = batch_features.cuda()\n",
        "        test_examples = batch_features.view(-1, 128*128*3).cuda()\n",
        "        reconstruction = model(batch_features).cpu()\n",
        "        break"
      ],
      "execution_count": 43,
      "outputs": [
        {
          "output_type": "stream",
          "text": [
            "/usr/local/lib/python3.7/dist-packages/torch/utils/data/dataloader.py:477: UserWarning: This DataLoader will create 4 worker processes in total. Our suggested max number of worker in current system is 2, which is smaller than what this DataLoader is going to create. Please be aware that excessive worker creation might get DataLoader running slow or even freeze, lower the worker number to avoid potential slowness/freeze if necessary.\n",
            "  cpuset_checked))\n"
          ],
          "name": "stderr"
        }
      ]
    },
    {
      "cell_type": "code",
      "metadata": {
        "colab": {
          "base_uri": "https://localhost:8080/",
          "height": 252
        },
        "id": "DiTx3-Tqh9Pi",
        "outputId": "ab5bf2f7-2851-4f9c-b5e6-65e1d5678bac"
      },
      "source": [
        "with torch.no_grad():\n",
        "    number = 1\n",
        "    plt.figure(figsize=(20, 4))\n",
        "    for index in range(number):\n",
        "        # display original\n",
        "        ax = plt.subplot(2, number, index + 1)\n",
        "        plt.imshow((test_examples[index].cpu().detach().numpy().reshape(128, 128, 3)).astype(np.uint8))\n",
        "        plt.gray()\n",
        "        ax.get_xaxis().set_visible(False)\n",
        "        ax.get_yaxis().set_visible(False)\n",
        "\n",
        "        # display reconstruction\n",
        "        ax = plt.subplot(2, number, index + 1 + number)\n",
        "        plt.imshow(((reconstruction[index].numpy().reshape(128, 128, 3))).astype(np.uint8))\n",
        "        plt.gray()\n",
        "        ax.get_xaxis().set_visible(False)\n",
        "        ax.get_yaxis().set_visible(False)\n",
        "    plt.show()"
      ],
      "execution_count": 44,
      "outputs": [
        {
          "output_type": "display_data",
          "data": {
            "image/png": "[encoded data removed]",
            "text/plain": [
              "<Figure size 1440x288 with 2 Axes>"
            ]
          },
          "metadata": {
            "tags": [],
            "needs_background": "light"
          }
        }
      ]
    },
    {
      "cell_type": "code",
      "metadata": {
        "id": "YXAEJ-Edi8fU"
      },
      "source": [
        ""
      ],
      "execution_count": 9,
      "outputs": []
    }
  ]
}