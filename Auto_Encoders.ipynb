{
  "nbformat": 4,
  "nbformat_minor": 0,
  "metadata": {
    "colab": {
      "name": "Auto Encoders",
      "provenance": [],
      "collapsed_sections": []
    },
    "kernelspec": {
      "name": "python3",
      "display_name": "Python 3"
    },
    "language_info": {
      "name": "python"
    },
    "accelerator": "GPU"
  },
  "cells": [
    {
      "cell_type": "code",
      "metadata": {
        "id": "McS3jQu_d6b2",
        "colab": {
          "base_uri": "https://localhost:8080/"
        },
        "outputId": "5d255305-3232-40b5-f8a6-5fe0d0e22291"
      },
      "source": [
        "import numpy as np\n",
        "import matplotlib.pyplot as plt\n",
        "from PIL import Image\n",
        "from scipy import ndimage\n",
        "from tqdm import tqdm\n",
        "import time\n",
        "import cv2\n",
        "import os\n",
        "\n",
        "import torch\n",
        "import torch.nn as nn\n",
        "import torch.nn.functional as F\n",
        "from torch.utils.data import Dataset, DataLoader\n",
        "from torch import optim\n",
        "!pip install self_attention_cv\n",
        "from self_attention_cv.bottleneck_transformer import BottleneckBlock\n",
        "\n",
        "import torchvision\n",
        "#from torchvision.datasets import MNIST"
      ],
      "execution_count": null,
      "outputs": [
        {
          "output_type": "stream",
          "text": [
            "Collecting self_attention_cv\n",
            "  Downloading https://files.pythonhosted.org/packages/69/5b/4163230c657f80a5f4123af111a410257df5d0c3d26027bd150c40b75fec/self_attention_cv-1.1.0-py3-none-any.whl\n",
            "Requirement already satisfied: torchvision>=0.8 in /usr/local/lib/python3.7/dist-packages (from self_attention_cv) (0.9.1+cu101)\n",
            "Collecting einops>=0.3\n",
            "  Downloading https://files.pythonhosted.org/packages/5d/a0/9935e030634bf60ecd572c775f64ace82ceddf2f504a5fd3902438f07090/einops-0.3.0-py2.py3-none-any.whl\n",
            "Collecting pytest>=6.2\n",
            "\u001b[?25l  Downloading https://files.pythonhosted.org/packages/a1/59/6821e900592fbe261f19d67e4def0cb27e52ef8ed16d9922c144961cc1ee/pytest-6.2.4-py3-none-any.whl (280kB)\n",
            "\u001b[K     |████████████████████████████████| 286kB 15.5MB/s \n",
            "\u001b[?25hRequirement already satisfied: torch>=1.7 in /usr/local/lib/python3.7/dist-packages (from self_attention_cv) (1.8.1+cu101)\n",
            "Requirement already satisfied: numpy>=1.19 in /usr/local/lib/python3.7/dist-packages (from self_attention_cv) (1.19.5)\n",
            "Requirement already satisfied: pillow>=4.1.1 in /usr/local/lib/python3.7/dist-packages (from torchvision>=0.8->self_attention_cv) (7.1.2)\n",
            "Requirement already satisfied: iniconfig in /usr/local/lib/python3.7/dist-packages (from pytest>=6.2->self_attention_cv) (1.1.1)\n",
            "Collecting pluggy<1.0.0a1,>=0.12\n",
            "  Downloading https://files.pythonhosted.org/packages/a0/28/85c7aa31b80d150b772fbe4a229487bc6644da9ccb7e427dd8cc60cb8a62/pluggy-0.13.1-py2.py3-none-any.whl\n",
            "Requirement already satisfied: attrs>=19.2.0 in /usr/local/lib/python3.7/dist-packages (from pytest>=6.2->self_attention_cv) (20.3.0)\n",
            "Requirement already satisfied: toml in /usr/local/lib/python3.7/dist-packages (from pytest>=6.2->self_attention_cv) (0.10.2)\n",
            "Requirement already satisfied: packaging in /usr/local/lib/python3.7/dist-packages (from pytest>=6.2->self_attention_cv) (20.9)\n",
            "Requirement already satisfied: importlib-metadata>=0.12; python_version < \"3.8\" in /usr/local/lib/python3.7/dist-packages (from pytest>=6.2->self_attention_cv) (3.10.1)\n",
            "Requirement already satisfied: py>=1.8.2 in /usr/local/lib/python3.7/dist-packages (from pytest>=6.2->self_attention_cv) (1.10.0)\n",
            "Requirement already satisfied: typing-extensions in /usr/local/lib/python3.7/dist-packages (from torch>=1.7->self_attention_cv) (3.7.4.3)\n",
            "Requirement already satisfied: pyparsing>=2.0.2 in /usr/local/lib/python3.7/dist-packages (from packaging->pytest>=6.2->self_attention_cv) (2.4.7)\n",
            "Requirement already satisfied: zipp>=0.5 in /usr/local/lib/python3.7/dist-packages (from importlib-metadata>=0.12; python_version < \"3.8\"->pytest>=6.2->self_attention_cv) (3.4.1)\n",
            "\u001b[31mERROR: datascience 0.10.6 has requirement folium==0.2.1, but you'll have folium 0.8.3 which is incompatible.\u001b[0m\n",
            "Installing collected packages: einops, pluggy, pytest, self-attention-cv\n",
            "  Found existing installation: pluggy 0.7.1\n",
            "    Uninstalling pluggy-0.7.1:\n",
            "      Successfully uninstalled pluggy-0.7.1\n",
            "  Found existing installation: pytest 3.6.4\n",
            "    Uninstalling pytest-3.6.4:\n",
            "      Successfully uninstalled pytest-3.6.4\n",
            "Successfully installed einops-0.3.0 pluggy-0.13.1 pytest-6.2.4 self-attention-cv-1.1.0\n"
          ],
          "name": "stdout"
        }
      ]
    },
    {
      "cell_type": "code",
      "metadata": {
        "id": "uzmAqzcrfUFZ"
      },
      "source": [
        "class AE(nn.Module):\n",
        "    def __init__(self, **kwargs):\n",
        "        super().__init__()\n",
        "        # print(kwargs[\"input_shape\"])\n",
        "        # self.encoder_hidden_layer = nn.Linear(\n",
        "        #     in_features=kwargs[\"input_shape\"], out_features=128\n",
        "        # )\n",
        "        # self.encoder_output_layer = nn.Linear(\n",
        "        #     in_features=128, out_features=128\n",
        "        # )\n",
        "        # self.decoder_hidden_layer = nn.Linear(\n",
        "        #     in_features=128, out_features=128\n",
        "        # )\n",
        "        # self.decoder_output_layer = nn.Linear(\n",
        "        #     in_features=128, out_features=kwargs[\"input_shape\"]\n",
        "        # )\n",
        "\n",
        "        # ENCODING\n",
        "\n",
        "        # block 2 up\n",
        "        self.en_conv1 = nn.Sequential(\n",
        "            nn.Conv2d(in_channels=3, out_channels=64, \n",
        "                      kernel_size=3,stride=1),\n",
        "            nn.ReLU(inplace=True),\n",
        "            nn.Conv2d(in_channels=64, out_channels=128, \n",
        "                      kernel_size=3,padding=1,stride=2),\n",
        "            nn.ReLU(inplace=True),\n",
        "            nn.Conv2d(in_channels=128, out_channels=256, \n",
        "                      kernel_size=3,padding=1,stride=2),\n",
        "            nn.ReLU(inplace=True)\n",
        "        )\n",
        "\n",
        "        # self attention block 1\n",
        "        self.attention1 = BottleneckBlock(in_channels=32, fmap_size=(32, 32), heads=4, out_channels=32, pooling=True)\n",
        "\n",
        "        self.en_conv2 = nn.Sequential(\n",
        "            nn.Conv2d(in_channels=256, out_channels=512, \n",
        "                      kernel_size=3,padding=1,stride=2),\n",
        "            nn.ReLU(inplace=True)\n",
        "        )\n",
        "\n",
        "        # self attention block 2\n",
        "        self.attention2 = BottleneckBlock(in_channels=16, fmap_size=(16, 16), heads=4, out_channels=16, pooling=True)\n",
        "\n",
        "\n",
        "        self.en_conv3 = nn.Sequential(\n",
        "            nn.Conv2d(in_channels=512, out_channels=1024, \n",
        "                      kernel_size=3,padding=1,stride=2),\n",
        "            nn.ReLU(inplace=True)\n",
        "        )\n",
        "\n",
        "        # Linear Layer (AKA Dense)\n",
        "        self.en_dense1 = nn.Linear(\n",
        "            in_features=8*8*1024, out_features=1024\n",
        "        )\n",
        "        self.en_dense2 = nn.Linear(\n",
        "            in_features=1024, out_features=8*8*1024\n",
        "        )\n",
        "\n",
        "        # upblock\n",
        "        self.en_up = nn.Sequential(\n",
        "            nn.ConvTranspose2d(in_channels=1024, out_channels=512, \n",
        "                      kernel_size=4,padding=5,stride=2),\n",
        "            nn.LeakyReLU()\n",
        "        )\n",
        "\n",
        "\n",
        "        # DECODING\n",
        "        self.de_up1 = nn.Sequential(\n",
        "            nn.ConvTranspose2d(in_channels=512, out_channels=256, \n",
        "                      kernel_size=2,stride=2),\n",
        "            nn.LeakyReLU(),\n",
        "            nn.ConvTranspose2d(in_channels=256, out_channels=128, \n",
        "                      kernel_size=2,stride=2),\n",
        "            nn.LeakyReLU()\n",
        "        )\n",
        "\n",
        "        # self attention block\n",
        "        self.up_attention1 = BottleneckBlock(in_channels=32, fmap_size=(32, 32), heads=4, out_channels=32, pooling=True)\n",
        "\n",
        "        self.de_up2 = nn.Sequential(\n",
        "            nn.ConvTranspose2d(in_channels=128, out_channels=64, \n",
        "                      kernel_size=2,stride=2),\n",
        "            nn.ConvTranspose2d(in_channels=64, out_channels=32, \n",
        "                      kernel_size=2,stride=2),\n",
        "            nn.LeakyReLU()\n",
        "        )\n",
        "\n",
        "        # Residual Block\n",
        "        self.de_res = nn.Sequential(\n",
        "            nn.Conv2d(in_channels=32, out_channels=32, \n",
        "                      kernel_size=3,padding=1,stride=1),\n",
        "            nn.LeakyReLU(),\n",
        "            nn.Conv2d(in_channels=32, out_channels=32, \n",
        "                      kernel_size=3,padding=1,stride=1),\n",
        "        )\n",
        "\n",
        "        # self attention\n",
        "        self.up_attention2 = BottleneckBlock(in_channels=128, fmap_size=(128, 128), heads=4, out_channels=128, pooling=True)\n",
        "\n",
        "        self.de_up_tanh = nn.Sequential(\n",
        "            nn.Conv2d(in_channels=64, out_channels= kwargs[\"input_shape\"], padding=1,\n",
        "                      kernel_size=3,stride=1),\n",
        "            nn.Tanh()\n",
        "        )\n",
        "\n",
        "        self.de_up_sig = nn.Sequential(\n",
        "            nn.ConvTranspose2d(in_channels=128, out_channels= kwargs[\"input_shape\"], \n",
        "                      kernel_size=2,stride=2),\n",
        "            nn.Sigmoid()\n",
        "        )\n",
        "\n",
        "    def forward(self, features):\n",
        "        # activation = self.encoder_hidden_layer(features)\n",
        "        # activation = torch.relu(activation)\n",
        "        # code = self.encoder_output_layer(activation)\n",
        "        # code = torch.relu(code)\n",
        "        # activation = self.decoder_hidden_layer(code)\n",
        "        # activation = torch.relu(activation)\n",
        "        # activation = self.decoder_output_layer(activation)\n",
        "        # reconstructed = torch.relu(activation)\n",
        "        # return reconstructed\n",
        "\n",
        "        # encoding\n",
        "        # print('features',features.shape,'expected: (3,128,128)')\n",
        "\n",
        "        x = self.en_conv1(features)\n",
        "        # print('en_conv1',x.shape,'expected: (256,32,32)')\n",
        "        # x = self.attention1(x)\n",
        "        # print('en_attn1',x.shape)\n",
        "        \n",
        "        x = self.en_conv2(x)\n",
        "        # print('en_conv2',x.shape,'expected: (512,16,16)')\n",
        "        # x = self.attention2(x)\n",
        "        # print('en_attn1',x.shape)\n",
        "\n",
        "        x = self.en_conv3(x)\n",
        "        # print('en_conv3',x.shape,'expected: (1024,8,8)')\n",
        "\n",
        "        # # TODO: sketchy stuff, fix this later\n",
        "        # x = x[:,:,:8,:]\n",
        "        x = torch.flatten(x,1)\n",
        "\n",
        "        # print('flatten',x.shape,'expected: (65536)')\n",
        "        x = self.en_dense1(x)\n",
        "        # print('en_dense1',x.shape,'expected: (1024)')\n",
        "\n",
        "        x = torch.relu(x)\n",
        "        # x = torch.flatten(x)\n",
        "        x = self.en_dense2(x)\n",
        "        # print('en_dense2',x.shape,'expected: (65536)')\n",
        "        # x = torch.relu(x)\n",
        "        x = torch.reshape(x,(features.shape[0],1024,8,8))\n",
        "        x = self.en_up(x)\n",
        "        # print('en_up',x.shape,'expected: (8,8,512)')\n",
        "        # print('done with encoding')\n",
        "\n",
        "        # decoding\n",
        "        x = self.de_up1(x)\n",
        "        # print('de_up1',x.shape,'expected: (128,32,32)')\n",
        "        x = self.de_up2(x)\n",
        "        # print('de_up2',x.shape)\n",
        "        dim = x.shape[2]\n",
        "        copy = torch.clone(x)\n",
        "\n",
        "        x = self.de_res(x)\n",
        "        # print('de_res',x.shape)\n",
        "\n",
        "        # crops out the part that we want and the adds it to the x\n",
        "        # lower = int((dim - x.shape[2]) / 2)\n",
        "        # upper = int(dim - lower)-1\n",
        "        # x_modified = copy[:, :, lower:upper, lower:upper]\n",
        "        # print(x.shape,conv3_out_modified.shape)\n",
        "        # print(x.shape,copy.shape)\n",
        "        x = torch.cat([x, copy], dim=1)\n",
        "        # print('post cat',x.shape,'expected: (128,64,64)')\n",
        "        x = self.de_up_tanh(x)\n",
        "        # print('returning',x.shape,'expected: (3,128,128)')\n",
        "        return x\n",
        "\n"
      ],
      "execution_count": null,
      "outputs": []
    },
    {
      "cell_type": "code",
      "metadata": {
        "id": "6sB0ta0N5Kvs"
      },
      "source": [
        "class AEDataset(Dataset):\n",
        "    def __init__(self, file_path):\n",
        "        self.file_path = file_path\n",
        "      \n",
        "        temp = []\n",
        "        count = 0\n",
        "        for filename in os.listdir(file_path):\n",
        "            if filename.endswith(\".jpg\"):\n",
        "                img = cv2.imread(file_path + '/'+filename)\n",
        "                img = cv2.resize(img,(128,128))\n",
        "                temp.append(img)\n",
        "\n",
        "                if count % 100 == 0: print(str(count) + ' images done')\n",
        "\n",
        "                count += 1\n",
        "        print(len(temp))\n",
        "        self.x = torch.tensor(temp,dtype=torch.float32)\n",
        "        self.x = self.x.view(self.x.shape[0],3,self.x.shape[1],self.x.shape[2])\n",
        "        print(self.x[0].shape)\n",
        "        # self.x = torch.flatten(self.x,1)\n",
        "        print(self.x.shape)\n",
        "    def __len__(self):\n",
        "        return len(self.x)\n",
        "    \n",
        "    def __getitem__(self, idx):\n",
        "        image = self.x[idx].clone().detach()/255\n",
        "        return image"
      ],
      "execution_count": null,
      "outputs": []
    },
    {
      "cell_type": "code",
      "metadata": {
        "id": "YP86lKm5nfDE",
        "colab": {
          "base_uri": "https://localhost:8080/"
        },
        "outputId": "ecddd348-3853-43ae-d7c4-c0e90b0472c8"
      },
      "source": [
        "from google.colab import drive\n",
        "drive.mount('/content/drive')"
      ],
      "execution_count": null,
      "outputs": [
        {
          "output_type": "stream",
          "text": [
            "Mounted at /content/drive\n"
          ],
          "name": "stdout"
        }
      ]
    },
    {
      "cell_type": "code",
      "metadata": {
        "id": "o7vFwGZwVnK3"
      },
      "source": [
        "# hyperparameters\n",
        "epochs = 10\n",
        "learning_rate = 0.01\n",
        "batch_size = 100"
      ],
      "execution_count": null,
      "outputs": []
    },
    {
      "cell_type": "code",
      "metadata": {
        "id": "zQRRSsDAfZ5u"
      },
      "source": [
        "#  use gpu if available\n",
        "device = torch.device(\"cuda\" if torch.cuda.is_available() else \"cpu\")\n",
        "\n",
        "# create a model from `AE` autoencoder class\n",
        "# load it to the specified device, either gpu or cpu\n",
        "model = AE(input_shape=3).to(device)\n",
        "\n",
        "# create an optimizer object\n",
        "# Adam optimizer with learning rate 1e-3\n",
        "optimizer = optim.Adam(model.parameters(), lr=learning_rate)\n",
        "\n",
        "# mean-squared error loss\n",
        "criterion = nn.MSELoss()"
      ],
      "execution_count": null,
      "outputs": []
    },
    {
      "cell_type": "code",
      "metadata": {
        "colab": {
          "base_uri": "https://localhost:8080/"
        },
        "id": "Kw9_A0Trfc7L",
        "outputId": "7db76430-8b90-4204-9f16-f09a74ef199e"
      },
      "source": [
        "transform = torchvision.transforms.Compose([torchvision.transforms.ToTensor()])\n",
        "train_dataset = AEDataset('/content/drive/MyDrive/UMDCP/CMSC/CMSC472/JohnOliver1-cropped-face-crop')\n",
        "# train_dataset = MNIST(\n",
        "#     root=\"~/torch_datasets\", train=True, transform=transform, download=True\n",
        "# )\n",
        "# /content/drive/MyDrive/UMDCP/CMSC/CMSC472/JimmyF\n",
        "test_dataset = AEDataset('/content/drive/MyDrive/UMDCP/CMSC/CMSC472/JimmyF')\n",
        "# test_dataset = MNIST(\n",
        "#     root=\"~/torch_datasets\", train=False, transform=transform, download=True\n",
        "# )\n",
        "train_loader = torch.utils.data.DataLoader(\n",
        "    train_dataset,batch_size=batch_size, shuffle=True, num_workers=4, pin_memory=True\n",
        ")\n",
        "\n",
        "test_loader = torch.utils.data.DataLoader(\n",
        "    test_dataset, batch_size=1, shuffle=False, num_workers=4\n",
        ")"
      ],
      "execution_count": null,
      "outputs": [
        {
          "output_type": "stream",
          "text": [
            "0 images done\n",
            "100 images done\n",
            "200 images done\n",
            "300 images done\n",
            "400 images done\n",
            "500 images done\n",
            "600 images done\n",
            "700 images done\n",
            "800 images done\n",
            "900 images done\n",
            "1000 images done\n",
            "1100 images done\n",
            "1200 images done\n",
            "1300 images done\n",
            "1400 images done\n",
            "1500 images done\n",
            "1568\n",
            "torch.Size([3, 128, 128])\n",
            "torch.Size([1568, 3, 128, 128])\n",
            "0 images done\n",
            "1\n",
            "torch.Size([3, 128, 128])\n",
            "torch.Size([1, 3, 128, 128])\n"
          ],
          "name": "stdout"
        },
        {
          "output_type": "stream",
          "text": [
            "/usr/local/lib/python3.7/dist-packages/torch/utils/data/dataloader.py:477: UserWarning: This DataLoader will create 4 worker processes in total. Our suggested max number of worker in current system is 2, which is smaller than what this DataLoader is going to create. Please be aware that excessive worker creation might get DataLoader running slow or even freeze, lower the worker number to avoid potential slowness/freeze if necessary.\n",
            "  cpuset_checked))\n"
          ],
          "name": "stderr"
        }
      ]
    },
    {
      "cell_type": "code",
      "metadata": {
        "colab": {
          "base_uri": "https://localhost:8080/"
        },
        "id": "Vwy4Vwq1ffSl",
        "outputId": "c0cf9ce6-a6a6-40b5-d592-9873f98a0709"
      },
      "source": [
        "training_len = len(train_loader)\n",
        "for epoch in range(epochs):\n",
        "    loss = 0\n",
        "    model.train()\n",
        "    for idx, batch_features in enumerate(train_loader):\n",
        "        # reshape mini-batch data to [N, 784] matrix\n",
        "        # load it to the active device\n",
        "        batch_features = batch_features.cuda()\n",
        "        # reset the gradients back to zero\n",
        "        # PyTorch accumulates gradients on subsequent backward passes\n",
        "        optimizer.zero_grad()\n",
        "        \n",
        "        # compute reconstructions\n",
        "        outputs = model(batch_features)\n",
        "        \n",
        "        # compute training reconstruction loss\n",
        "        # print(outputs.shape,batch_features.shape)\n",
        "        train_loss = criterion(outputs, batch_features)\n",
        "        \n",
        "        # compute accumultrain_loaderated gradients\n",
        "        train_loss.backward()\n",
        "        \n",
        "        # perform parameter update based on current gradients\n",
        "        optimizer.step()\n",
        "        \n",
        "        # add the mini-batch training loss to epoch loss\n",
        "        loss += train_loss.item()\n",
        "    \n",
        "    # compute the epoch training loss\n",
        "    loss = loss / training_len\n",
        "    \n",
        "    if(epoch % 20 ==0): print(\"epoch : {}/{}, loss = {:.6f}\".format(epoch + 1, epochs, loss))\n",
        "print(\"final loss = \" + str(loss))"
      ],
      "execution_count": null,
      "outputs": [
        {
          "output_type": "stream",
          "text": [
            "/usr/local/lib/python3.7/dist-packages/torch/utils/data/dataloader.py:477: UserWarning: This DataLoader will create 4 worker processes in total. Our suggested max number of worker in current system is 2, which is smaller than what this DataLoader is going to create. Please be aware that excessive worker creation might get DataLoader running slow or even freeze, lower the worker number to avoid potential slowness/freeze if necessary.\n",
            "  cpuset_checked))\n"
          ],
          "name": "stderr"
        },
        {
          "output_type": "stream",
          "text": [
            "epoch : 1/10, loss = 0.234240\n",
            "final loss = 0.24184481613337994\n"
          ],
          "name": "stdout"
        }
      ]
    },
    {
      "cell_type": "code",
      "metadata": {
        "colab": {
          "base_uri": "https://localhost:8080/",
          "height": 302
        },
        "id": "vogkE85DNSzA",
        "outputId": "d302c31b-60f9-4b8a-cbfb-39d3b69ea9a1"
      },
      "source": [
        "print(outputs[0].cpu().detach().shape)\n",
        "plt.imshow(((outputs[0].cpu().detach().view(128,128,3).numpy())*100).astype(np.uint8))\n"
      ],
      "execution_count": null,
      "outputs": [
        {
          "output_type": "stream",
          "text": [
            "torch.Size([3, 128, 128])\n"
          ],
          "name": "stdout"
        },
        {
          "output_type": "execute_result",
          "data": {
            "text/plain": [
              "<matplotlib.image.AxesImage at 0x7ff93264a710>"
            ]
          },
          "metadata": {
            "tags": []
          },
          "execution_count": 41
        },
        {
          "output_type": "display_data",
          "data": {
            "image/png": "[encoded data removed]",
            "text/plain": [
              "<Figure size 432x288 with 1 Axes>"
            ]
          },
          "metadata": {
            "tags": [],
            "needs_background": "light"
          }
        }
      ]
    },
    {
      "cell_type": "code",
      "metadata": {
        "colab": {
          "base_uri": "https://localhost:8080/"
        },
        "id": "RpipTgNwg9o1",
        "outputId": "648d2f38-5065-48e7-d50b-09cee1354713"
      },
      "source": [
        "test_examples = None\n",
        "\n",
        "with torch.no_grad():\n",
        "    for batch_features in test_loader:\n",
        "        batch_features = batch_features.cuda()\n",
        "        test_examples = batch_features.view(-1, 128*128*3).cuda()\n",
        "        reconstruction = model(batch_features).cpu()\n",
        "        break"
      ],
      "execution_count": null,
      "outputs": [
        {
          "output_type": "stream",
          "text": [
            "/usr/local/lib/python3.7/dist-packages/torch/utils/data/dataloader.py:477: UserWarning: This DataLoader will create 4 worker processes in total. Our suggested max number of worker in current system is 2, which is smaller than what this DataLoader is going to create. Please be aware that excessive worker creation might get DataLoader running slow or even freeze, lower the worker number to avoid potential slowness/freeze if necessary.\n",
            "  cpuset_checked))\n"
          ],
          "name": "stderr"
        }
      ]
    },
    {
      "cell_type": "code",
      "metadata": {
        "colab": {
          "base_uri": "https://localhost:8080/",
          "height": 252
        },
        "id": "DiTx3-Tqh9Pi",
        "outputId": "5a4dfa28-89d3-498a-f401-f5644b8c5ed5"
      },
      "source": [
        "with torch.no_grad():\n",
        "    number = 1\n",
        "    plt.figure(figsize=(20, 4))\n",
        "    for index in range(number):\n",
        "        # display original\n",
        "        ax = plt.subplot(2, number, index + 1)\n",
        "        plt.imshow((test_examples[index].cpu().detach().numpy().reshape(128, 128, 3)*(255)).astype(np.uint8))\n",
        "        plt.gray()\n",
        "        ax.get_xaxis().set_visible(False)\n",
        "        ax.get_yaxis().set_visible(False)\n",
        "\n",
        "        # display reconstruction\n",
        "        ax = plt.subplot(2, number, index + 1 + number)\n",
        "        plt.imshow(((reconstruction[index].numpy().reshape(128, 128,3))*255).astype(np.uint8))\n",
        "        plt.gray()\n",
        "        ax.get_xaxis().set_visible(False)\n",
        "        ax.get_yaxis().set_visible(False)\n",
        "    plt.show()"
      ],
      "execution_count": null,
      "outputs": [
        {
          "output_type": "display_data",
          "data": {
            "image/png": "[encoded data removed]",
            "text/plain": [
              "<Figure size 1440x288 with 2 Axes>"
            ]
          },
          "metadata": {
            "tags": [],
            "needs_background": "light"
          }
        }
      ]
    },
    {
      "cell_type": "code",
      "metadata": {
        "id": "YXAEJ-Edi8fU"
      },
      "source": [
        ""
      ],
      "execution_count": null,
      "outputs": []
    }
  ]
}