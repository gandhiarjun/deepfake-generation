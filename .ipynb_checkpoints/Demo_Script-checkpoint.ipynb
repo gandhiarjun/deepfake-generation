{
 "cells": [
  {
   "cell_type": "code",
   "execution_count": null,
   "metadata": {},
   "outputs": [],
   "source": [
    "import requests\n",
    "import auto_encoders"
   ]
  },
  {
   "cell_type": "code",
   "execution_count": 5,
   "metadata": {},
   "outputs": [],
   "source": [
    "# Download the trained model file from Devan's google drive (since it was too large for GitHub)\n",
    "req = requests.get(\"https://drive.google.com/uc?id=1Hz63ZAzbvQKdc2-5RnQ1AvbulwsLCYb-&export=download\")\n",
    "url_content = req.content"
   ]
  }
 ],
 "metadata": {
  "kernelspec": {
   "display_name": "Python 3",
   "language": "python",
   "name": "python3"
  },
  "language_info": {
   "codemirror_mode": {
    "name": "ipython",
    "version": 3
   },
   "file_extension": ".py",
   "mimetype": "text/x-python",
   "name": "python",
   "nbconvert_exporter": "python",
   "pygments_lexer": "ipython3",
   "version": "3.8.3"
  }
 },
 "nbformat": 4,
 "nbformat_minor": 4
}
